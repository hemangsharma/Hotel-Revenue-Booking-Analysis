{
 "cells": [
  {
   "cell_type": "markdown",
   "id": "ec199df6",
   "metadata": {},
   "source": [
    "# Insights & Summary"
   ]
  },
  {
   "cell_type": "code",
   "execution_count": 2,
   "id": "c891896b",
   "metadata": {},
   "outputs": [
    {
     "name": "stdout",
     "output_type": "stream",
     "text": [
      "💰 Most Profitable Room:\n",
      " Room             NaN\n",
      "Profit    1572998.91\n",
      "Name: 32, dtype: object\n",
      "\n",
      "📉 Least Profitable Room:\n",
      " Room            27\n",
      "Profit    17696.35\n",
      "Name: 24, dtype: object\n",
      "\n",
      "🔍 High Occupancy but Low Profit Rooms:\n",
      " Empty DataFrame\n",
      "Columns: [Room, Occupancy (%), Profit]\n",
      "Index: []\n",
      "\n",
      "📊 Average Profit by Room Type:\n",
      "    Room Type        Profit\n",
      "6  Triple En  68818.640000\n",
      "2     Family  61682.920000\n",
      "3     SIngle  54177.350000\n",
      "1  Double En  53054.416667\n",
      "5     Triple  49392.793333\n",
      "0     Double  44909.690769\n",
      "4     Single  44706.472500\n",
      "\n",
      "📈 Profit Distribution Stats:\n",
      " count    3.300000e+01\n",
      "mean     9.533327e+04\n",
      "std      2.655556e+05\n",
      "min      1.769635e+04\n",
      "25%      4.198942e+04\n",
      "50%      4.552845e+04\n",
      "75%      5.838542e+04\n",
      "max      1.572999e+06\n",
      "Name: Profit, dtype: float64\n"
     ]
    }
   ],
   "source": [
    "# Load required packages again\n",
    "import pandas as pd\n",
    "import xlsxwriter\n",
    "\n",
    "# Load room_income again to ensure correct columns\n",
    "room_income = pd.read_csv(\"../data/room_income.csv\")\n",
    "room_income.columns = room_income.columns.str.strip()\n",
    "\n",
    "# Compute Profit (if not already added)\n",
    "room_income['Profit'] = room_income['Accom'] + room_income['Other'] - room_income['Discount']\n",
    "\n",
    "# 1. Most Profitable Room\n",
    "most_profitable_room = room_income.loc[room_income['Profit'].idxmax()]\n",
    "\n",
    "# 2. Least Profitable Room\n",
    "least_profitable_room = room_income.loc[room_income['Profit'].idxmin()]\n",
    "\n",
    "# 3. Rooms with High Occupancy but Low Profit\n",
    "room_income['Occupancy (%)'] = pd.to_numeric(room_income['Occupancy (%)'], errors='coerce')\n",
    "high_occ_low_profit = room_income[(room_income['Occupancy (%)'] > 80) & (room_income['Profit'] < 10000)]\n",
    "\n",
    "# 4. Average Profit by Room Type\n",
    "avg_profit_by_type = room_income.groupby(\"Room Type\")['Profit'].mean().reset_index().sort_values(by='Profit', ascending=False)\n",
    "\n",
    "# 5. Profit Distribution\n",
    "profit_stats = room_income['Profit'].describe()\n",
    "\n",
    "# Display results\n",
    "print(\"💰 Most Profitable Room:\\n\", most_profitable_room[['Room', 'Profit']])\n",
    "print(\"\\n📉 Least Profitable Room:\\n\", least_profitable_room[['Room', 'Profit']])\n",
    "print(\"\\n🔍 High Occupancy but Low Profit Rooms:\\n\", high_occ_low_profit[['Room', 'Occupancy (%)', 'Profit']])\n",
    "print(\"\\n📊 Average Profit by Room Type:\\n\", avg_profit_by_type)\n",
    "print(\"\\n📈 Profit Distribution Stats:\\n\", profit_stats)\n"
   ]
  },
  {
   "cell_type": "markdown",
   "id": "bf59e263",
   "metadata": {},
   "source": [
    "## Export Excel File (with insights)"
   ]
  },
  {
   "cell_type": "code",
   "execution_count": 5,
   "id": "fe9c003e",
   "metadata": {},
   "outputs": [],
   "source": [
    "# Export insights to Excel\n",
    "with pd.ExcelWriter(\"../outputs/excel/Hotel_Analysis_Cleaned2.xlsx\", engine='xlsxwriter') as writer:\n",
    "    pd.DataFrame([most_profitable_room]).to_excel(writer, index=False, sheet_name='Top_Profitable_Room')\n",
    "    pd.DataFrame([least_profitable_room]).to_excel(writer, index=False, sheet_name='Least_Profitable_Room')\n",
    "    high_occ_low_profit.to_excel(writer, index=False, sheet_name='High_Occ_Low_Profit')\n",
    "    avg_profit_by_type.to_excel(writer, index=False, sheet_name='Avg_Profit_By_Type')\n",
    "    pd.DataFrame(profit_stats).to_excel(writer, sheet_name='Profit_Stats')"
   ]
  }
 ],
 "metadata": {
  "kernelspec": {
   "display_name": "Python 3",
   "language": "python",
   "name": "python3"
  },
  "language_info": {
   "codemirror_mode": {
    "name": "ipython",
    "version": 3
   },
   "file_extension": ".py",
   "mimetype": "text/x-python",
   "name": "python",
   "nbconvert_exporter": "python",
   "pygments_lexer": "ipython3",
   "version": "3.11.3"
  }
 },
 "nbformat": 4,
 "nbformat_minor": 5
}
